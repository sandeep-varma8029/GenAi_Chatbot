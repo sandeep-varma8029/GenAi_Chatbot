{
 "cells": [
  {
   "cell_type": "code",
   "execution_count": 0,
   "metadata": {
    "application/vnd.databricks.v1+cell": {
     "cellMetadata": {
      "byteLimit": 2048000,
      "rowLimit": 10000
     },
     "inputWidgets": {},
     "nuid": "6afeca47-d102-4916-8748-3f4944a6da88",
     "showTitle": false,
     "title": ""
    }
   },
   "outputs": [
    {
     "output_type": "execute_result",
     "data": {
      "text/plain": [
       "True"
      ]
     },
     "execution_count": 22,
     "metadata": {},
     "output_type": "execute_result"
    }
   ],
   "source": [
    "# Use dbutils.fs.mount to mount an Azure Blob Storage container to the Databricks file system\n",
    "# Specify the source URL of the Blob Storage container\n",
    "# Define the mount point in the Databricks file system where the Blob Storage will be accessible\n",
    "# Provide extra configurations for authentication, including the storage account access key\n",
    "dbutils.fs.mount(\n",
    "  source = \"wasbs://genai@genaihrdata.blob.core.windows.net/\",\n",
    " mount_point = \"/mnt/hr_documents\",\n",
    "  extra_configs={\"fs.azure.account.key.genaihrdata.blob.core.windows.net\": \"+OSH0AGSnbSDv01feXOdAgJHyCpWgRc8KUHZ1xfredTWGhQjVXc2s5uLAr3EzoiTMnm/eQ1+oki4+AStYdBhBg==\"}\n",
    ")"
   ]
  },
  {
   "cell_type": "code",
   "execution_count": 0,
   "metadata": {
    "application/vnd.databricks.v1+cell": {
     "cellMetadata": {
      "byteLimit": 2048000,
      "rowLimit": 10000
     },
     "inputWidgets": {},
     "nuid": "3ba6d681-1cac-4377-9411-5bfb8d46b5ed",
     "showTitle": false,
     "title": ""
    }
   },
   "outputs": [
    {
     "output_type": "stream",
     "name": "stdout",
     "output_type": "stream",
     "text": [
      "Bug Reporting Directions.docx\nFederal Holidays 2023 - 2024.docx\nSample Benefit Guide.pdf\nSample Employee Handbook.pdf\nSample Training Development Policy.pdf\n"
     ]
    }
   ],
   "source": [
    "files = dbutils.fs.ls(\"/mnt/hr_documents/\")\n",
    "for file in files:\n",
    "    print(file.name)\n"
   ]
  }
 ],
 "metadata": {
  "application/vnd.databricks.v1+notebook": {
   "dashboards": [],
   "language": "python",
   "notebookMetadata": {
    "pythonIndentUnit": 4
   },
   "notebookName": "Mount_Storage",
   "widgets": {}
  }
 },
 "nbformat": 4,
 "nbformat_minor": 0
}

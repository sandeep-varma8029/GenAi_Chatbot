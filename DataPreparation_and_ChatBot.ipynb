{
 "cells": [
  {
   "cell_type": "code",
   "execution_count": 0,
   "metadata": {
    "application/vnd.databricks.v1+cell": {
     "cellMetadata": {
      "byteLimit": 2048000,
      "rowLimit": 10000
     },
     "collapsed": true,
     "inputWidgets": {},
     "nuid": "de483a72-831f-40a6-9e0d-c339cd072b5c",
     "showTitle": false,
     "title": ""
    }
   },
   "outputs": [
    {
     "output_type": "stream",
     "name": "stdout",
     "output_type": "stream",
     "text": [
      "\u001B[43mNote: you may need to restart the kernel using dbutils.library.restartPython() to use updated packages.\u001B[0m\n\u001B[43mNote: you may need to restart the kernel using dbutils.library.restartPython() to use updated packages.\u001B[0m\n"
     ]
    }
   ],
   "source": [
    "%pip install --upgrade --quiet langchain langchain-openai chromadb beautifulsoup4"
   ]
  },
  {
   "cell_type": "code",
   "execution_count": 0,
   "metadata": {
    "application/vnd.databricks.v1+cell": {
     "cellMetadata": {
      "byteLimit": 2048000,
      "rowLimit": 10000
     },
     "collapsed": true,
     "inputWidgets": {},
     "nuid": "95a78baf-dd23-4a26-801c-d4fe40089c9d",
     "showTitle": false,
     "title": ""
    }
   },
   "outputs": [
    {
     "output_type": "stream",
     "name": "stdout",
     "output_type": "stream",
     "text": [
      "\u001B[43mNote: you may need to restart the kernel using dbutils.library.restartPython() to use updated packages.\u001B[0m\n\u001B[43mNote: you may need to restart the kernel using dbutils.library.restartPython() to use updated packages.\u001B[0m\n"
     ]
    }
   ],
   "source": [
    "%pip install --upgrade --quiet tiktoken pypdf sentence_transformers InstructorEmbedding chromadb"
   ]
  },
  {
   "cell_type": "code",
   "execution_count": 0,
   "metadata": {
    "application/vnd.databricks.v1+cell": {
     "cellMetadata": {
      "byteLimit": 2048000,
      "rowLimit": 10000
     },
     "collapsed": true,
     "inputWidgets": {},
     "nuid": "1438a07e-c91c-4ffd-98b4-f2caea3bf1a2",
     "showTitle": false,
     "title": ""
    }
   },
   "outputs": [
    {
     "output_type": "stream",
     "name": "stdout",
     "output_type": "stream",
     "text": [
      "\u001B[43mNote: you may need to restart the kernel using dbutils.library.restartPython() to use updated packages.\u001B[0m\n\u001B[43mNote: you may need to restart the kernel using dbutils.library.restartPython() to use updated packages.\u001B[0m\n"
     ]
    }
   ],
   "source": [
    "%pip install --upgrade --quiet  docx2txt"
   ]
  },
  {
   "cell_type": "code",
   "execution_count": 0,
   "metadata": {
    "application/vnd.databricks.v1+cell": {
     "cellMetadata": {
      "byteLimit": 2048000,
      "rowLimit": 10000
     },
     "inputWidgets": {},
     "nuid": "f521638b-d39c-424a-86a1-7adaeb25a568",
     "showTitle": false,
     "title": ""
    }
   },
   "outputs": [],
   "source": [
    "dbutils.library.restartPython()"
   ]
  },
  {
   "cell_type": "code",
   "execution_count": 0,
   "metadata": {
    "application/vnd.databricks.v1+cell": {
     "cellMetadata": {
      "byteLimit": 2048000,
      "rowLimit": 10000
     },
     "inputWidgets": {},
     "nuid": "da1cbeb2-e224-420a-a0ff-c6d5e868502f",
     "showTitle": true,
     "title": "Set OpenAI API Key"
    }
   },
   "outputs": [],
   "source": [
    "# Configures the OpenAI API key for accessing OpenAI's models.\n",
    "import os\n",
    "import openai\n",
    "import sys\n",
    "\n",
    "# Set env var OPENAI_API_KEY\n",
    "os.environ[\"OPENAI_API_KEY\"] = \"sk-\""
   ]
  },
  {
   "cell_type": "code",
   "execution_count": 0,
   "metadata": {
    "application/vnd.databricks.v1+cell": {
     "cellMetadata": {
      "byteLimit": 2048000,
      "rowLimit": 10000
     },
     "inputWidgets": {},
     "nuid": "2f3ec596-e568-4da4-934c-26879e4eeb96",
     "showTitle": true,
     "title": "Initialize LLM Model"
    }
   },
   "outputs": [],
   "source": [
    "# Import the ChatOpenAI class, which enables creating chat functionalities using OpenAI's models.\n",
    "from langchain_openai import ChatOpenAI\n",
    "\n",
    "# Initialize a ChatOpenAI object for handling conversational responses.\n",
    "# 'model' specifies the OpenAI GPT model version, chosen here for its efficiency and suitability for chat applications.\n",
    "# 'temperature' adjusts response generation randomness. A value of 0.2 is selected to produce more predictable, consistent answers,\n",
    "# which is ideal for a chatbot aiming to deliver reliable information.\n",
    "chat = ChatOpenAI(model=\"gpt-3.5-turbo-1106\", temperature=0.2)\n"
   ]
  },
  {
   "cell_type": "code",
   "execution_count": 0,
   "metadata": {
    "application/vnd.databricks.v1+cell": {
     "cellMetadata": {
      "byteLimit": 2048000,
      "rowLimit": 10000
     },
     "inputWidgets": {},
     "nuid": "7b221239-fb13-42a9-b45e-095cd575ace3",
     "showTitle": false,
     "title": ""
    }
   },
   "outputs": [],
   "source": [
    "from langchain.document_loaders import TextLoader\n",
    "from langchain.document_loaders import PyPDFLoader\n",
    "from langchain.document_loaders import DirectoryLoader\n",
    "from langchain_community.document_loaders import Docx2txtLoader"
   ]
  },
  {
   "cell_type": "code",
   "execution_count": 0,
   "metadata": {
    "application/vnd.databricks.v1+cell": {
     "cellMetadata": {
      "byteLimit": 2048000,
      "rowLimit": 10000
     },
     "inputWidgets": {},
     "nuid": "8160fd8d-718b-48e6-bcdd-6a77c4494bc9",
     "showTitle": true,
     "title": "Load HR Documents"
    }
   },
   "outputs": [],
   "source": [
    "#Loads PDF and DOCX HR documents from the DBFS directory, preparing them for processing.\n",
    "loader = DirectoryLoader(\n",
    "    \"/dbfs/mnt/hr_documents/\", glob=\"./*.pdf\", loader_cls=PyPDFLoader\n",
    ")\n",
    "data = loader.load()"
   ]
  },
  {
   "cell_type": "code",
   "execution_count": 0,
   "metadata": {
    "application/vnd.databricks.v1+cell": {
     "cellMetadata": {
      "byteLimit": 2048000,
      "rowLimit": 10000
     },
     "inputWidgets": {},
     "nuid": "07944713-8e6b-41c1-998b-444f212eb446",
     "showTitle": false,
     "title": ""
    }
   },
   "outputs": [],
   "source": [
    "doc_loader = DirectoryLoader(\n",
    "    \"/dbfs/mnt/hr_documents/\", glob=\"./*.docx\", loader_cls=Docx2txtLoader\n",
    ") \n",
    "doc_data = doc_loader.load()"
   ]
  },
  {
   "cell_type": "code",
   "execution_count": 0,
   "metadata": {
    "application/vnd.databricks.v1+cell": {
     "cellMetadata": {
      "byteLimit": 2048000,
      "rowLimit": 10000
     },
     "inputWidgets": {},
     "nuid": "7c823ca9-f91c-4413-8619-adf3ce9eeb9a",
     "showTitle": false,
     "title": ""
    }
   },
   "outputs": [],
   "source": [
    "data = data + doc_data"
   ]
  },
  {
   "cell_type": "code",
   "execution_count": 0,
   "metadata": {
    "application/vnd.databricks.v1+cell": {
     "cellMetadata": {
      "byteLimit": 2048000,
      "rowLimit": 10000
     },
     "inputWidgets": {},
     "nuid": "d651cee5-cda9-41f3-83fb-2324da50b1d1",
     "showTitle": true,
     "title": "Clean Document Text"
    }
   },
   "outputs": [],
   "source": [
    "import re\n",
    "\n",
    "\n",
    "def clean_text(text):\n",
    "    # Remove excessive spaces and line breaks\n",
    "    text = re.sub(r\"\\s+\", \" \", text, flags=re.MULTILINE)\n",
    "\n",
    "    return text.strip()"
   ]
  },
  {
   "cell_type": "code",
   "execution_count": 0,
   "metadata": {
    "application/vnd.databricks.v1+cell": {
     "cellMetadata": {
      "byteLimit": 2048000,
      "rowLimit": 10000
     },
     "inputWidgets": {},
     "nuid": "589e469a-3f84-4504-842c-682095f6124b",
     "showTitle": false,
     "title": ""
    }
   },
   "outputs": [],
   "source": [
    "# Applies text cleaning to remove excessive spaces and line breaks from the document contents\n",
    "for document in data:\n",
    "    # Apply cleaning to the document's page content\n",
    "    document.page_content = clean_text(document.page_content)"
   ]
  },
  {
   "cell_type": "code",
   "execution_count": 0,
   "metadata": {
    "application/vnd.databricks.v1+cell": {
     "cellMetadata": {
      "byteLimit": 2048000,
      "rowLimit": 10000
     },
     "inputWidgets": {},
     "nuid": "b5976730-f950-46aa-b541-469429f89b21",
     "showTitle": true,
     "title": "Split Text into Chunks"
    }
   },
   "outputs": [],
   "source": [
    "# Import RecursiveCharacterTextSplitter from langchain.text_splitter module.\n",
    "# This class is designed for splitting text documents into smaller chunks.\n",
    "from langchain.text_splitter import RecursiveCharacterTextSplitter\n",
    "\n",
    "# Initializes the text splitter with specific parameters.\n",
    "# 'chunk_size' is set to 500, indicating that each text chunk will be up to 500 characters long.\n",
    "# 'chunk_overlap' is set to 0, meaning there will be no overlap between consecutive chunks of text.\n",
    "text_splitter = RecursiveCharacterTextSplitter(chunk_size=500, chunk_overlap=0)\n",
    "\n",
    "# Use the text splitter to split the loaded documents ('data') into smaller chunks.\n",
    "# This process facilitates handling and processing of large text documents by breaking them down into manageable pieces.\n",
    "all_splits = text_splitter.split_documents(data)\n"
   ]
  },
  {
   "cell_type": "code",
   "execution_count": 0,
   "metadata": {
    "application/vnd.databricks.v1+cell": {
     "cellMetadata": {
      "byteLimit": 2048000,
      "rowLimit": 10000
     },
     "inputWidgets": {},
     "nuid": "ef30e781-4801-4c97-af97-c43ff3218e87",
     "showTitle": true,
     "title": "Create Vector Store"
    }
   },
   "outputs": [],
   "source": [
    "# Initializes a Chroma vector store with document chunks and embeddings, enabling efficient retrieval.\n",
    "from langchain_community.vectorstores import Chroma\n",
    "from langchain_openai import OpenAIEmbeddings\n",
    "# Initialize a vector store using Chromadb with documents split into chunks and embeddings generated by OpenAI.\n",
    "# 'documents' parameter takes the chunks of text split previously.\n",
    "# 'embedding' parameter utilizes OpenAIEmbeddings() to generate vector embeddings for each text chunk.\n",
    "# This setup allows for efficient storage and retrieval of document chunks based on semantic similarity.\n",
    "vectorstore = Chroma.from_documents(documents=all_splits, embedding=OpenAIEmbeddings())"
   ]
  },
  {
   "cell_type": "code",
   "execution_count": 0,
   "metadata": {
    "application/vnd.databricks.v1+cell": {
     "cellMetadata": {
      "byteLimit": 2048000,
      "rowLimit": 10000
     },
     "inputWidgets": {},
     "nuid": "48418d36-96c5-484c-ba98-c707d112480f",
     "showTitle": true,
     "title": "Retrieve Document Chunks"
    }
   },
   "outputs": [
    {
     "output_type": "execute_result",
     "data": {
      "text/plain": [
       "[Document(page_content='CORE Benefits Plan Coverages at Time of Hire The company’s health insurance plan consists of the following core benefits: Medical Insurance (including prescription drug coverage) Dental Insurance Vision Insurance Basic Life Insurance Accidental Death and Dismemberment Insurance Employee Assistance Program Medical, dental and vision coverage is offered to all benefit eligible employees as a package, however, you can elect to opt -out of dental and/or vision and remain on the medical plan only', metadata={'page': 4, 'source': '/dbfs/mnt/hr_documents/Sample Benefit Guide.pdf'}),\n",
       " Document(page_content='CORE Benefits Plan Coverages at Time of Hire The company’s health insurance plan consists of the following core benefits: Medical Insurance (including prescription drug coverage) Dental Insurance Vision Insurance Basic Life Insurance Accidental Death and Dismemberment Insurance Employee Assistance Program Medical, dental and vision coverage is offered to all benefit eligible employees as a package, however, you can elect to opt -out of dental and/or vision and remain on the medical plan only', metadata={'page': 4, 'source': '/dbfs/mnt/hr_documents/Sample Benefit Guide.pdf'}),\n",
       " Document(page_content='The company’s group insurance plan year is October 1st through September 30th. Employee Eligibility Employees are eligible to participate in the company’s insurance plans if they are full -time employees working a minimum of 30 hours per week. Coverage will be effective the 1st of the month following 30 days of employment. For example: If you are hired on February 11th, your coverage will be effective on April 1st. Termination If you separate employment from the company, your insurance will', metadata={'page': 5, 'source': '/dbfs/mnt/hr_documents/Sample Benefit Guide.pdf'}),\n",
       " Document(page_content='The company’s group insurance plan year is October 1st through September 30th. Employee Eligibility Employees are eligible to participate in the company’s insurance plans if they are full -time employees working a minimum of 30 hours per week. Coverage will be effective the 1st of the month following 30 days of employment. For example: If you are hired on February 11th, your coverage will be effective on April 1st. Termination If you separate employment from the company, your insurance will', metadata={'page': 5, 'source': '/dbfs/mnt/hr_documents/Sample Benefit Guide.pdf'})]"
      ]
     },
     "execution_count": 98,
     "metadata": {},
     "output_type": "execute_result"
    }
   ],
   "source": [
    "# Converts the vector store into a retriever capable of semantic search with a specific configuration.\n",
    "# 'k=4' configures the retriever to return the top 4 most relevant document chunks for any given query.\n",
    "retriever = vectorstore.as_retriever(k=4)\n",
    "\n",
    "# Use the retriever to find document chunks related to health plan coverages at the time of hire.\n",
    "# This involves passing a specific query to the retriever's invoke method, which then searches the vector database\n",
    "# for the most semantically relevant chunks of text based on the query's embeddings.\n",
    "docs = retriever.invoke(\"what are health Plan Coverages at Time of Hire?\")\n",
    "\n",
    "# 'docs' contains the top 4 most relevant chunks as determined by the retriever, providing specific information\n",
    "# or context related to the query about health plan coverages at the time of hire.\n",
    "docs\n"
   ]
  },
  {
   "cell_type": "code",
   "execution_count": 0,
   "metadata": {
    "application/vnd.databricks.v1+cell": {
     "cellMetadata": {
      "byteLimit": 2048000,
      "rowLimit": 10000
     },
     "inputWidgets": {},
     "nuid": "c844fe75-a3d0-4c73-a8f8-00b17f0eeb71",
     "showTitle": true,
     "title": "Format and Process Responses"
    }
   },
   "outputs": [],
   "source": [
    "# Import the textwrap module for text formatting\n",
    "import textwrap\n",
    "\n",
    "# Define a function to wrap text, preserving original line breaks for readability\n",
    "def wrap_text_preserve_newlines(text, width=110):\n",
    "    \"\"\"\n",
    "    This function wraps text to a specified width while preserving newline characters.\n",
    "    It ensures long lines are broken down into shorter ones without altering paragraph structures,\n",
    "    making the text easier to read in console or text-based UIs.\n",
    "    \"\"\"\n",
    "    # Split the input text into lines based on newline characters\n",
    "    lines = text.split(\"\\n\")\n",
    "\n",
    "    # Wrap each line individually to the specified width\n",
    "    wrapped_lines = [textwrap.fill(line, width=width) for line in lines]\n",
    "\n",
    "    # Re-join the wrapped lines with newline characters to preserve original paragraph breaks\n",
    "    wrapped_text = \"\\n\".join(wrapped_lines)\n",
    "\n",
    "    return wrapped_text\n",
    "\n",
    "# Define a function to process and print the response from a language model\n",
    "def process_llm_response(llm_response):\n",
    "    \"\"\"\n",
    "    Processes and prints the response from a language model, including the result and sources.\n",
    "    It formats the result for better readability and lists any source documents provided in the response.\n",
    "    \"\"\"\n",
    "    # Format and print the language model's response using the wrap_text_preserve_newlines function\n",
    "    print(wrap_text_preserve_newlines(llm_response[\"result\"]))\n",
    "\n",
    "    # Print the sources of the response, if available, to provide context and references\n",
    "    print(\"\\n\\nSources:\")\n",
    "    for source in llm_response[\"source_documents\"]:\n",
    "        print(source.metadata[\"source\"])\n"
   ]
  },
  {
   "cell_type": "code",
   "execution_count": 0,
   "metadata": {
    "application/vnd.databricks.v1+cell": {
     "cellMetadata": {
      "byteLimit": 2048000,
      "rowLimit": 10000
     },
     "inputWidgets": {},
     "nuid": "23e9eb9b-9767-41b9-a181-17f04c0dbf8a",
     "showTitle": true,
     "title": "Define Custom Prompt Template"
    }
   },
   "outputs": [],
   "source": [
    "# Import PromptTemplate from langchain.prompts to create structured prompts for language models.\n",
    "from langchain.prompts import PromptTemplate\n",
    "\n",
    "# Define a detailed prompt template for handling HR document inquiries.\n",
    "# This template guides the model to provide concise, accurate, and polite answers to employee queries\n",
    "# regarding HR documents, emphasizing clarity and utility in responses.\n",
    "template = \"\"\"As an HR assistant, your task is to address inquiries about the company's HR documents. \n",
    "When presented with a query from an employee, use the relevant information from the HR documents to formulate an answer that clarifies or further explores the employee's concern.\n",
    "Use the following pieces of context to answer the question at the end. If you don't know the answer, just say that you don't know, don't try to make up an answer.  Always say \"thanks for asking!\" at the end of the answer. \n",
    "{context}\n",
    "Question: {question}\n",
    "Helpful Answer:\"\"\"\n",
    "# Initialize the PromptTemplate object with input variables for dynamic content generation.\n",
    "QA_CHAIN_PROMPT = PromptTemplate(\n",
    "    input_variables=[\"context\", \"question\"],\n",
    "    template=template,\n",
    ")\n",
    "\n",
    "# Import RetrievalQA from langchain.chains to integrate question answering capabilities with document retrieval.\n",
    "from langchain.chains import RetrievalQA\n",
    "\n",
    "# Configure the QA chain with the chat model, document retriever, and custom prompt template.\n",
    "# This setup allows for generating answers based on the HR documents, incorporating context and user questions.\n",
    "qa_chain = RetrievalQA.from_chain_type(\n",
    "    chat,\n",
    "    retriever=retriever,\n",
    "    return_source_documents=True,\n",
    "    chain_type_kwargs={\"prompt\": QA_CHAIN_PROMPT},\n",
    ")\n"
   ]
  },
  {
   "cell_type": "code",
   "execution_count": 0,
   "metadata": {
    "application/vnd.databricks.v1+cell": {
     "cellMetadata": {
      "byteLimit": 2048000,
      "rowLimit": 10000
     },
     "inputWidgets": {},
     "nuid": "19dc470a-1eee-40c5-92a7-c82bbe2f4dbc",
     "showTitle": true,
     "title": "Run QA Chain and Interact with the Chatbot"
    }
   },
   "outputs": [
    {
     "output_type": "stream",
     "name": "stdout",
     "output_type": "stream",
     "text": [
      "The list of federal holidays for 2023-2024 is as follows:\n- New Year’s Day\n- Birthday of Martin Luther King, Jr.\n- Washington’s Birthday\n- Memorial Day\n- Juneteenth National Independence Day\n- Independence Day\n- Labor Day\n- Columbus Day\n- Veterans Day\n- Thanksgiving Day\n- Christmas Day\n\nThanks for asking!\n\n\nSources:\n/dbfs/mnt/hr_documents/Federal Holidays 2023 - 2024.docx\n/dbfs/mnt/hr_documents/Federal Holidays 2023 - 2024.docx\n/dbfs/mnt/hr_documents/Federal Holidays 2023 - 2024.docx\n/dbfs/mnt/hr_documents/Federal Holidays 2023 - 2024.docx\n"
     ]
    }
   ],
   "source": [
    "query = \"give list of federal holidays?\"\n",
    "# Retrieve the response from the QA chain based on the query.\n",
    "# The qa_chain uses the configured RetrievalQA setup to search through HR documents\n",
    "# and generate an answer that matches the context and content of the query.\n",
    "llm_response = qa_chain(query)\n",
    "\n",
    "# Process and print the LLM's response along with any referenced source documents.\n",
    "# This function formats the response for readability and lists sources to provide context\n",
    "# and validation for the information provided.\n",
    "process_llm_response(llm_response)"
   ]
  },
  {
   "cell_type": "code",
   "execution_count": 0,
   "metadata": {
    "application/vnd.databricks.v1+cell": {
     "cellMetadata": {
      "byteLimit": 2048000,
      "rowLimit": 10000
     },
     "inputWidgets": {},
     "nuid": "8ac27578-2163-432a-a114-6c9c17eb0427",
     "showTitle": false,
     "title": ""
    }
   },
   "outputs": [
    {
     "output_type": "stream",
     "name": "stdout",
     "output_type": "stream",
     "text": [
      "The employee policies at {ORGANIZATION NAME} are outlined in the Employee Handbook. This includes guidelines\non privileges and obligations of employment, the voluntary at-will employment policy, and the ability for\npolicies to be modified, amended, or revoked by the organization at any time without advance notice. Thanks\nfor asking!\n\n\nSources:\n/dbfs/mnt/hr_documents/Sample Employee Handbook.pdf\n/dbfs/mnt/hr_documents/Sample Employee Handbook.pdf\n/dbfs/mnt/hr_documents/Sample Employee Handbook.pdf\n/dbfs/mnt/hr_documents/Sample Employee Handbook.pdf\n"
     ]
    }
   ],
   "source": [
    "query = \"What are the employee policies ?\"\n",
    "\n",
    "llm_response = qa_chain(query)\n",
    "\n",
    "process_llm_response(llm_response)"
   ]
  },
  {
   "cell_type": "code",
   "execution_count": 0,
   "metadata": {
    "application/vnd.databricks.v1+cell": {
     "cellMetadata": {
      "byteLimit": 2048000,
      "rowLimit": 10000
     },
     "inputWidgets": {},
     "nuid": "9deb4cf5-3cae-4387-b273-bdb1212d5977",
     "showTitle": false,
     "title": ""
    }
   },
   "outputs": [
    {
     "output_type": "stream",
     "name": "stdout",
     "output_type": "stream",
     "text": [
      "The retirement plan at {ORGANIZATION NAME} is available for eligible full-time and part-time employees who are\n21 years of age or older. The organization contributes to the employee’s retirement plan when the employee\nbecomes vested after one year of employment. More information about the retirement plan will be provided to\nyou at the time of employment. Thanks for asking!\n\n\nSources:\n/dbfs/mnt/hr_documents/Sample Employee Handbook.pdf\n/dbfs/mnt/hr_documents/Sample Employee Handbook.pdf\n/dbfs/mnt/hr_documents/Sample Employee Handbook.pdf\n/dbfs/mnt/hr_documents/Sample Employee Handbook.pdf\n"
     ]
    }
   ],
   "source": [
    "query = \"give details about the retirement plan ?\"\n",
    "\n",
    "llm_response = qa_chain(query)\n",
    "\n",
    "process_llm_response(llm_response)"
   ]
  },
  {
   "cell_type": "code",
   "execution_count": 0,
   "metadata": {
    "application/vnd.databricks.v1+cell": {
     "cellMetadata": {
      "byteLimit": 2048000,
      "rowLimit": 10000
     },
     "inputWidgets": {},
     "nuid": "de36447b-d5c7-4590-8c94-5e0376cc715b",
     "showTitle": false,
     "title": ""
    }
   },
   "outputs": [
    {
     "output_type": "stream",
     "name": "stdout",
     "output_type": "stream",
     "text": [
      "Thanks for asking! If you find a glitch, the first thing you should do is to document the details of the\nglitch, including screenshots and steps to reproduce the issue. This will help the development team to\ninvestigate and isolate the problem. Once you have documented the glitch, you can create a bug report\nfollowing the guidelines provided in the HR document \"Creating Bug Reports (COE-KG-XXX)\". Remember to\nprioritize the glitch based on its impact on core functionalities, and provide as much information as possible\nto help with the investigation.\n\n\nSources:\n/dbfs/mnt/hr_documents/Bug Reporting Directions.docx\n/dbfs/mnt/hr_documents/Bug Reporting Directions.docx\n/dbfs/mnt/hr_documents/Bug Reporting Directions.docx\n/dbfs/mnt/hr_documents/Bug Reporting Directions.docx\n"
     ]
    }
   ],
   "source": [
    "query = \"What do I do if I find a glitch?\"\n",
    "\n",
    "llm_response = qa_chain(query)\n",
    "\n",
    "process_llm_response(llm_response)"
   ]
  },
  {
   "cell_type": "code",
   "execution_count": 0,
   "metadata": {
    "application/vnd.databricks.v1+cell": {
     "cellMetadata": {
      "byteLimit": 2048000,
      "rowLimit": 10000
     },
     "inputWidgets": {},
     "nuid": "de4d08e3-da57-476b-a813-cd8bb88493b4",
     "showTitle": false,
     "title": ""
    }
   },
   "outputs": [
    {
     "output_type": "stream",
     "name": "stdout",
     "output_type": "stream",
     "text": [
      "Coverage will be effective the 1st of the month following 30 days of employment. For example, if you are hired\non February 11th, your coverage will be effective on April 1st. Thanks for asking!\n\n\nSources:\n/dbfs/mnt/hr_documents/Sample Benefit Guide.pdf\n/dbfs/mnt/hr_documents/Sample Benefit Guide.pdf\n/dbfs/mnt/hr_documents/Sample Employee Handbook.pdf\n/dbfs/mnt/hr_documents/Sample Employee Handbook.pdf\n"
     ]
    }
   ],
   "source": [
    "query = \"At what point do I get health benefits after joining?\"\n",
    "\n",
    "llm_response = qa_chain(query)\n",
    "\n",
    "process_llm_response(llm_response)"
   ]
  },
  {
   "cell_type": "code",
   "execution_count": 0,
   "metadata": {
    "application/vnd.databricks.v1+cell": {
     "cellMetadata": {
      "byteLimit": 2048000,
      "rowLimit": 10000
     },
     "inputWidgets": {},
     "nuid": "6c8c314b-cd4f-4eba-8780-2140e8bb2793",
     "showTitle": false,
     "title": ""
    }
   },
   "outputs": [
    {
     "output_type": "stream",
     "name": "stdout",
     "output_type": "stream",
     "text": [
      "Thanks for asking! According to our HR documents, bugs that affect the core functionalities of the product are\nconsidered high priority. These are the bugs that significantly impact the performance or usability of the\nproduct. Bugs that have workarounds but still degrade the core functionalities are considered medium priority,\nand bugs that do not affect critical/core functions of the product are low priority. I hope this helps clarify\nthe seriousness of bug priorities.\n\n\nSources:\n/dbfs/mnt/hr_documents/Bug Reporting Directions.docx\n/dbfs/mnt/hr_documents/Bug Reporting Directions.docx\n/dbfs/mnt/hr_documents/Bug Reporting Directions.docx\n/dbfs/mnt/hr_documents/Bug Reporting Directions.docx\n"
     ]
    }
   ],
   "source": [
    "query = \"How serious does a bug need to be to get top priority?\"\n",
    "\n",
    "llm_response = qa_chain(query)\n",
    "\n",
    "process_llm_response(llm_response)"
   ]
  },
  {
   "cell_type": "code",
   "execution_count": 0,
   "metadata": {
    "application/vnd.databricks.v1+cell": {
     "cellMetadata": {
      "byteLimit": 2048000,
      "rowLimit": 10000
     },
     "inputWidgets": {},
     "nuid": "2f6d7d32-4847-4197-94c7-083f425c75ef",
     "showTitle": false,
     "title": ""
    }
   },
   "outputs": [
    {
     "output_type": "stream",
     "name": "stdout",
     "output_type": "stream",
     "text": [
      "The remote work policy allows employees to work from home or another location outside of the office. It\noutlines the expectations and guidelines for remote work, including communication, work hours, and equipment\nusage. Thanks for asking!\n\n\nSources:\n/dbfs/mnt/hr_documents/Sample Employee Handbook.pdf\n/dbfs/mnt/hr_documents/Sample Employee Handbook.pdf\n/dbfs/mnt/hr_documents/Sample Employee Handbook.pdf\n/dbfs/mnt/hr_documents/Sample Employee Handbook.pdf\n"
     ]
    }
   ],
   "source": [
    "query = \"What's the remote work policy look like?\"\n",
    "\n",
    "llm_response = qa_chain(query)\n",
    "\n",
    "process_llm_response(llm_response)"
   ]
  },
  {
   "cell_type": "code",
   "execution_count": 0,
   "metadata": {
    "application/vnd.databricks.v1+cell": {
     "cellMetadata": {
      "byteLimit": 2048000,
      "rowLimit": 10000
     },
     "inputWidgets": {},
     "nuid": "cc9ceb00-e004-457d-b8df-89f287f4db7c",
     "showTitle": false,
     "title": ""
    }
   },
   "outputs": [
    {
     "output_type": "stream",
     "name": "stdout",
     "output_type": "stream",
     "text": [
      "Thanks for asking! You have the option to receive dental services from any dental provider with our open\naccess Dental PPO plan. This plan allows you to receive services from both in-network and out-of-network\nproviders without the need for a Primary Dental Provider or referrals to specialists. The plan also covers a\nrange of services, including preventative services such as exams, cleanings, and X-rays, as well as basic and\nmajor services. If you need to find an in-network dentist, you can search for a participating provider through\nour network.\n\n\nSources:\n/dbfs/mnt/hr_documents/Sample Benefit Guide.pdf\n/dbfs/mnt/hr_documents/Sample Benefit Guide.pdf\n/dbfs/mnt/hr_documents/Sample Benefit Guide.pdf\n/dbfs/mnt/hr_documents/Sample Benefit Guide.pdf\n"
     ]
    }
   ],
   "source": [
    "query = \"What options do I have for dental care?\"\n",
    "\n",
    "llm_response = qa_chain(query)\n",
    "\n",
    "process_llm_response(llm_response)"
   ]
  },
  {
   "cell_type": "code",
   "execution_count": 0,
   "metadata": {
    "application/vnd.databricks.v1+cell": {
     "cellMetadata": {
      "byteLimit": 2048000,
      "rowLimit": 10000
     },
     "inputWidgets": {},
     "nuid": "906ec497-c0e0-4447-b34b-26020ebd84f2",
     "showTitle": false,
     "title": ""
    }
   },
   "outputs": [
    {
     "output_type": "stream",
     "name": "stdout",
     "output_type": "stream",
     "text": [
      "You will need to notify your supervisor in writing of any changes in your personal mailing address. Thanks for\nasking!\n\n\nSources:\n/dbfs/mnt/hr_documents/Sample Benefit Guide.pdf\n/dbfs/mnt/hr_documents/Sample Benefit Guide.pdf\n/dbfs/mnt/hr_documents/Sample Employee Handbook.pdf\n/dbfs/mnt/hr_documents/Sample Employee Handbook.pdf\n"
     ]
    }
   ],
   "source": [
    "query = \"Need to update my address. Who do I talk to?\"\n",
    "\n",
    "llm_response = qa_chain(query)\n",
    "\n",
    "process_llm_response(llm_response)"
   ]
  },
  {
   "cell_type": "code",
   "execution_count": 0,
   "metadata": {
    "application/vnd.databricks.v1+cell": {
     "cellMetadata": {
      "byteLimit": 2048000,
      "rowLimit": 10000
     },
     "inputWidgets": {},
     "nuid": "27eb0da3-a4e7-490b-a922-f2bf2fc56de4",
     "showTitle": false,
     "title": ""
    }
   },
   "outputs": [
    {
     "output_type": "stream",
     "name": "stdout",
     "output_type": "stream",
     "text": [
      "Thanks for asking! A good bug report should include proof that you observed the problem, a general location or\nstarting point to investigate the issue, and steps to reproduce the bug. It should also prioritize the defect\nlist into three main categories: high, medium, and low priority. Screenshots and error message capturing are\nalso important in a bug report. If you need more detailed information, you can refer to the document \"Creating\nBug Reports (COE-KG-XXX)\" for a guide on how to handle bugs and create bug reports in user stories.\n\n\nSources:\n/dbfs/mnt/hr_documents/Bug Reporting Directions.docx\n/dbfs/mnt/hr_documents/Bug Reporting Directions.docx\n/dbfs/mnt/hr_documents/Bug Reporting Directions.docx\n/dbfs/mnt/hr_documents/Bug Reporting Directions.docx\n"
     ]
    }
   ],
   "source": [
    "query = \"Can you show me what a good bug report is ?\"\n",
    "\n",
    "llm_response = qa_chain(query)\n",
    "\n",
    "process_llm_response(llm_response)"
   ]
  },
  {
   "cell_type": "code",
   "execution_count": 0,
   "metadata": {
    "application/vnd.databricks.v1+cell": {
     "cellMetadata": {
      "byteLimit": 2048000,
      "rowLimit": 10000
     },
     "inputWidgets": {},
     "nuid": "355d6a6f-9029-4ae0-a228-c5e6deb708f4",
     "showTitle": true,
     "title": "Initialize Conversation Memory"
    }
   },
   "outputs": [],
   "source": [
    "# Import the ConversationBufferMemory class from langchain.memory\n",
    "# This class is used to maintain a memory buffer for the conversation, allowing the chatbot to have\n",
    "# a context-aware conversation based on previous interactions.\n",
    "from langchain.memory import ConversationBufferMemory\n",
    "\n",
    "# Initialize the ConversationBufferMemory with a specific memory key and configuration.\n",
    "# 'memory_key' specifies the key under which conversation history is stored, here set to \"chat_history\".\n",
    "# 'return_messages' set to True ensures that the memory will store and return the messages exchanged\n",
    "# during the conversation, enabling the chatbot to reference past interactions for context.\n",
    "memory = ConversationBufferMemory(memory_key=\"chat_history\", return_messages=True)\n"
   ]
  },
  {
   "cell_type": "code",
   "execution_count": 0,
   "metadata": {
    "application/vnd.databricks.v1+cell": {
     "cellMetadata": {
      "byteLimit": 2048000,
      "rowLimit": 10000
     },
     "inputWidgets": {},
     "nuid": "09978e14-6597-4250-b9d3-308ca984e7d5",
     "showTitle": true,
     "title": "Create Conversational Retrieval Chain"
    }
   },
   "outputs": [],
   "source": [
    "from langchain.chains import ConversationalRetrievalChain\n",
    "\n",
    "qa = ConversationalRetrievalChain.from_llm(chat, retriever=retriever, memory=memory)"
   ]
  },
  {
   "cell_type": "code",
   "execution_count": 0,
   "metadata": {
    "application/vnd.databricks.v1+cell": {
     "cellMetadata": {
      "byteLimit": 2048000,
      "rowLimit": 10000
     },
     "inputWidgets": {},
     "nuid": "1aa56977-e7d2-4b3e-bd80-666c5e532cdd",
     "showTitle": true,
     "title": "Interact with the Chatbot"
    }
   },
   "outputs": [],
   "source": [
    "question = \"Plan Coverages at Time of Hire?\"\n",
    "result = qa({\"question\": question})"
   ]
  },
  {
   "cell_type": "code",
   "execution_count": 0,
   "metadata": {
    "application/vnd.databricks.v1+cell": {
     "cellMetadata": {
      "byteLimit": 2048000,
      "rowLimit": 10000
     },
     "inputWidgets": {},
     "nuid": "7118dccf-bf95-4ccd-9641-0654c1e73ecb",
     "showTitle": false,
     "title": ""
    }
   },
   "outputs": [
    {
     "output_type": "execute_result",
     "data": {
      "text/plain": [
       "'The plan coverages at the time of hire include Medical Insurance (including prescription drug coverage), Dental Insurance, Vision Insurance, Basic Life Insurance, Accidental Death and Dismemberment Insurance, and Employee Assistance Program. Medical, dental, and vision coverage is offered as a package, but employees can opt-out of dental and/or vision and remain on the medical plan only.'"
      ]
     },
     "execution_count": 115,
     "metadata": {},
     "output_type": "execute_result"
    }
   ],
   "source": [
    "result[\"answer\"]"
   ]
  },
  {
   "cell_type": "code",
   "execution_count": 0,
   "metadata": {
    "application/vnd.databricks.v1+cell": {
     "cellMetadata": {
      "byteLimit": 2048000,
      "rowLimit": 10000
     },
     "inputWidgets": {},
     "nuid": "20adc08e-a3e8-4330-9920-22a756aa9e9c",
     "showTitle": false,
     "title": ""
    }
   },
   "outputs": [],
   "source": [
    "question = \"what is covered in vision?\"\n",
    "result = qa({\"question\": question})"
   ]
  },
  {
   "cell_type": "code",
   "execution_count": 0,
   "metadata": {
    "application/vnd.databricks.v1+cell": {
     "cellMetadata": {
      "byteLimit": 2048000,
      "rowLimit": 10000
     },
     "inputWidgets": {},
     "nuid": "5bbfbf2d-a182-4b37-9060-bf413c3c105b",
     "showTitle": false,
     "title": ""
    }
   },
   "outputs": [
    {
     "output_type": "execute_result",
     "data": {
      "text/plain": [
       "'The vision insurance plan covers an annual exam with a $5 copay for in-network providers, and a reimbursement of up to $18 for out-of-network providers. It also includes options for contact lens fitting and follow-up, with up to $40 reimbursement for out-of-network providers and 10% off retail costs.'"
      ]
     },
     "execution_count": 117,
     "metadata": {},
     "output_type": "execute_result"
    }
   ],
   "source": [
    "result[\"answer\"]"
   ]
  },
  {
   "cell_type": "code",
   "execution_count": 0,
   "metadata": {
    "application/vnd.databricks.v1+cell": {
     "cellMetadata": {
      "byteLimit": 2048000,
      "rowLimit": 10000
     },
     "inputWidgets": {},
     "nuid": "c16dea52-eb09-4637-a33a-bd696193bf0d",
     "showTitle": false,
     "title": ""
    }
   },
   "outputs": [
    {
     "output_type": "execute_result",
     "data": {
      "text/plain": [
       "'The options for lenses include UV treatment, tint (solid and gradient), standard plastic scratch coating, standard polycarbonate for adults, standard anti-reflective coating, polarized, and other add-ons. There are also options for contact lenses, including conventional, disposable, and medically necessary, with specific copays and allowances.'"
      ]
     },
     "execution_count": 118,
     "metadata": {},
     "output_type": "execute_result"
    }
   ],
   "source": [
    "question = \"what are the lens options?\"\n",
    "result = qa({\"question\": question})\n",
    "result[\"answer\"]"
   ]
  }
 ],
 "metadata": {
  "application/vnd.databricks.v1+notebook": {
   "dashboards": [],
   "language": "python",
   "notebookMetadata": {
    "pythonIndentUnit": 4
   },
   "notebookName": "DataPreparation_and_ChatBot",
   "widgets": {}
  }
 },
 "nbformat": 4,
 "nbformat_minor": 0
}
